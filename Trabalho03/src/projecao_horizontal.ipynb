{
 "cells": [
  {
   "cell_type": "code",
   "execution_count": 76,
   "id": "4742b214",
   "metadata": {},
   "outputs": [],
   "source": [
    "import cv2\n",
    "import numpy as np"
   ]
  },
  {
   "cell_type": "code",
   "execution_count": 77,
   "id": "3ed8cae6",
   "metadata": {},
   "outputs": [],
   "source": [
    "img = cv2.imread('../input/pos_41.png', cv2.IMREAD_GRAYSCALE)\n",
    "img = img.astype(float)"
   ]
  },
  {
   "cell_type": "code",
   "execution_count": 78,
   "id": "9551a869",
   "metadata": {},
   "outputs": [
    {
     "name": "stdout",
     "output_type": "stream",
     "text": [
      "41.0\n"
     ]
    }
   ],
   "source": [
    "\n",
    "h, w = img.shape\n",
    "center = (w//2, h//2)\n",
    "theta_1 = -50.0\n",
    "theta_2 = 50.0\n",
    "valor_maximo = -1.0\n",
    "melhor_theta = -11.0\n",
    "for theta in np.arange(theta_1, theta_2, 1):\n",
    "    matriz_rotacao = cv2.getRotationMatrix2D(center, theta, 1)\n",
    "    rotate_img = cv2.warpAffine(img, matriz_rotacao, (w, h), borderMode=cv2.BORDER_REPLICATE)\n",
    "    perfil = []\n",
    "    for i in range(h):\n",
    "        perfil.append(np.sum(rotate_img[i]))\n",
    "    soma = 0\n",
    "    for i in range(h-1):\n",
    "        soma += np.power(perfil[i+1] - perfil[i], 2)\n",
    "    if (soma > valor_maximo):\n",
    "        valor_maximo = soma\n",
    "        melhor_theta = theta\n",
    "print(melhor_theta)\n"
   ]
  },
  {
   "cell_type": "code",
   "execution_count": null,
   "id": "689dbf3e",
   "metadata": {},
   "outputs": [
    {
     "data": {
      "text/plain": [
       "True"
      ]
     },
     "execution_count": 79,
     "metadata": {},
     "output_type": "execute_result"
    },
    {
     "ename": "",
     "evalue": "",
     "output_type": "error",
     "traceback": [
      "\u001b[1;31mThe Kernel crashed while executing code in the current cell or a previous cell. \n",
      "\u001b[1;31mPlease review the code in the cell(s) to identify a possible cause of the failure. \n",
      "\u001b[1;31mClick <a href='https://aka.ms/vscodeJupyterKernelCrash'>here</a> for more info. \n",
      "\u001b[1;31mView Jupyter <a href='command:jupyter.viewOutput'>log</a> for further details."
     ]
    }
   ],
   "source": [
    "\n",
    "matriz = cv2.getRotationMatrix2D(center, melhor_theta, 1)\n",
    "rotate_img = cv2.warpAffine(img, matriz, (w, h), borderMode=cv2.BORDER_REPLICATE)\n",
    "cv2.imwrite('teste.png', rotate_img)"
   ]
  }
 ],
 "metadata": {
  "kernelspec": {
   "display_name": "base",
   "language": "python",
   "name": "python3"
  },
  "language_info": {
   "codemirror_mode": {
    "name": "ipython",
    "version": 3
   },
   "file_extension": ".py",
   "mimetype": "text/x-python",
   "name": "python",
   "nbconvert_exporter": "python",
   "pygments_lexer": "ipython3",
   "version": "3.12.7"
  }
 },
 "nbformat": 4,
 "nbformat_minor": 5
}
