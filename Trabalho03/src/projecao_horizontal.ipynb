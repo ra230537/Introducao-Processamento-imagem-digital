{
  "cells": [
    {
      "cell_type": "code",
      "execution_count": null,
      "id": "4742b214",
      "metadata": {
        "id": "4742b214"
      },
      "outputs": [],
      "source": [
        "import cv2\n",
        "import numpy as np"
      ]
    },
    {
      "cell_type": "code",
      "source": [
        "from google.colab import drive\n",
        "drive.mount('/content/drive')"
      ],
      "metadata": {
        "id": "bOXfwSeekRd9",
        "outputId": "307ee412-de95-4663-d60b-14fcc760c44b",
        "colab": {
          "base_uri": "https://localhost:8080/"
        }
      },
      "id": "bOXfwSeekRd9",
      "execution_count": 1,
      "outputs": [
        {
          "output_type": "stream",
          "name": "stdout",
          "text": [
            "Mounted at /content/drive\n"
          ]
        }
      ]
    },
    {
      "cell_type": "code",
      "execution_count": null,
      "id": "3ed8cae6",
      "metadata": {
        "id": "3ed8cae6"
      },
      "outputs": [],
      "source": [
        "img = cv2.imread('../input/pos_41.png', cv2.IMREAD_GRAYSCALE)\n",
        "img = img.astype(float)"
      ]
    },
    {
      "cell_type": "code",
      "execution_count": null,
      "id": "9551a869",
      "metadata": {
        "id": "9551a869",
        "outputId": "4950d28e-2b16-4949-a6eb-c013a7aea4d2"
      },
      "outputs": [
        {
          "name": "stdout",
          "output_type": "stream",
          "text": [
            "41.0\n"
          ]
        }
      ],
      "source": [
        "\n",
        "h, w = img.shape\n",
        "center = (w//2, h//2)\n",
        "theta_1 = -50.0\n",
        "theta_2 = 50.0\n",
        "valor_maximo = -1.0\n",
        "melhor_theta = -11.0\n",
        "for theta in np.arange(theta_1, theta_2, 1):\n",
        "    matriz_rotacao = cv2.getRotationMatrix2D(center, theta, 1)\n",
        "    rotate_img = cv2.warpAffine(img, matriz_rotacao, (w, h), borderMode=cv2.BORDER_REPLICATE)\n",
        "    perfil = []\n",
        "    for i in range(h):\n",
        "        perfil.append(np.sum(rotate_img[i]))\n",
        "    soma = 0\n",
        "    for i in range(h-1):\n",
        "        soma += np.power(perfil[i+1] - perfil[i], 2)\n",
        "    if (soma > valor_maximo):\n",
        "        valor_maximo = soma\n",
        "        melhor_theta = theta\n",
        "print(melhor_theta)\n"
      ]
    },
    {
      "cell_type": "code",
      "execution_count": null,
      "id": "689dbf3e",
      "metadata": {
        "id": "689dbf3e",
        "outputId": "08143f01-09b0-4b9a-f203-ff31eb1fb3dc"
      },
      "outputs": [
        {
          "data": {
            "text/plain": [
              "True"
            ]
          },
          "execution_count": 79,
          "metadata": {},
          "output_type": "execute_result"
        },
        {
          "ename": "",
          "evalue": "",
          "output_type": "error",
          "traceback": [
            "\u001b[1;31mThe Kernel crashed while executing code in the current cell or a previous cell. \n",
            "\u001b[1;31mPlease review the code in the cell(s) to identify a possible cause of the failure. \n",
            "\u001b[1;31mClick <a href='https://aka.ms/vscodeJupyterKernelCrash'>here</a> for more info. \n",
            "\u001b[1;31mView Jupyter <a href='command:jupyter.viewOutput'>log</a> for further details."
          ]
        }
      ],
      "source": [
        "\n",
        "matriz = cv2.getRotationMatrix2D(center, melhor_theta, 1)\n",
        "rotate_img = cv2.warpAffine(img, matriz, (w, h), borderMode=cv2.BORDER_REPLICATE)\n",
        "cv2.imwrite('teste.png', rotate_img)"
      ]
    }
  ],
  "metadata": {
    "kernelspec": {
      "display_name": "base",
      "language": "python",
      "name": "python3"
    },
    "language_info": {
      "codemirror_mode": {
        "name": "ipython",
        "version": 3
      },
      "file_extension": ".py",
      "mimetype": "text/x-python",
      "name": "python",
      "nbconvert_exporter": "python",
      "pygments_lexer": "ipython3",
      "version": "3.12.7"
    },
    "colab": {
      "provenance": []
    }
  },
  "nbformat": 4,
  "nbformat_minor": 5
}