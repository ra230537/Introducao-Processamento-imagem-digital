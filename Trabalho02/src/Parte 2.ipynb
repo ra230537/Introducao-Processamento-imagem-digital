{
 "cells": [
  {
   "cell_type": "code",
   "execution_count": null,
   "id": "37fd8d12",
   "metadata": {},
   "outputs": [],
   "source": [
    "#Imports\n",
    "import cv2\n",
    "import numpy as np\n",
    "import matplotlib.pyplot as plt\n",
    "def print_mono_image(image, title = None):\n",
    "    plt.imshow(image, cmap='gray')\n",
    "    if (title is not None):\n",
    "        plt.title(title)\n",
    "    plt.axis('off')\n",
    "    plt.show()\n",
    "\n"
   ]
  },
  {
   "cell_type": "code",
   "execution_count": null,
   "id": "45f075d2",
   "metadata": {},
   "outputs": [],
   "source": [
    "# Leitura e conversão da imagem para cinza \n",
    "image_path = '../imagens/baboon_monocromatica.png'\n",
    "image = cv2.imread(image_path, cv2.IMREAD_GRAYSCALE)"
   ]
  },
  {
   "cell_type": "code",
   "execution_count": null,
   "id": "ba0c4dcf",
   "metadata": {},
   "outputs": [],
   "source": [
    "# Calcula a Transformada Discreta de Fourier bidimensional\n",
    "fft_image = np.fft.fft2(image)\n",
    "\n",
    "# Deslocar o centro de frequência\n",
    "fft_centered = np.fft.fftshift(fft_image)\n",
    "\n",
    "# Extrair a magnitude de cada coeficiente\n",
    "abs_image = np.abs(fft_centered)\n",
    "magnitude = np.log1p(abs_image)\n",
    "print_mono_image(magnitude)"
   ]
  },
  {
   "cell_type": "code",
   "execution_count": null,
   "id": "bdaa286b",
   "metadata": {},
   "outputs": [],
   "source": [
    "# Criação de máscaras:\n",
    "h, w = image.shape\n",
    "center_row, center_column = h // 2, w // 2\n",
    "r, R = 30, 80\n",
    "# Passa baixa\n",
    "mask_pb = np.zeros_like(image, dtype=float)\n",
    "# Passa alta\n",
    "mask_pa = np.zeros_like(image, dtype=float)\n",
    "# Passa faixa\n",
    "mask_pf = np.zeros_like(image, dtype=float)\n",
    "# Rejeita faixa\n",
    "mask_rf = np.zeros_like(image, dtype=float)\n",
    "\n",
    "y, x = np.ogrid[:h, :w]\n",
    "\n",
    "d = np.sqrt(np.power(y - center_row, 2) + np.power(x - center_column, 2))\n",
    "\n",
    "# Passa alta\n",
    "mask_pb[d <= r] = 1\n",
    "mask_pa[d >= R] = 1\n",
    "mask_pf[(d >= r) & (d <= R)] = 1\n",
    "mask_rf[(d <= r) | (d >= R)] = 1"
   ]
  },
  {
   "cell_type": "code",
   "execution_count": null,
   "id": "1c9662bf",
   "metadata": {},
   "outputs": [],
   "source": [
    "## Resultado de como são as mascaras\n",
    "dict_filtros = {\n",
    "    'Espectro Filtrado (Passa-baixa)': mask_pb,\n",
    "    'Espectro Filtrado (Passa-alta)': mask_pa,\n",
    "    'Espectro Filtrado (Passa-faixa)': mask_pf,\n",
    "    'Espectro Filtrado (Rejeita-faixa)': mask_rf,\n",
    "}\n",
    "for title, mask in dict_filtros.items():\n",
    "    plt.figure(figsize=(4,4))\n",
    "    plt.imshow(magnitude * mask, cmap='gray', vmin=magnitude.min(), vmax=magnitude.max(),\n",
    "            interpolation='nearest')\n",
    "    plt.title(title)\n",
    "    plt.axis('off')\n",
    "    plt.show()"
   ]
  },
  {
   "cell_type": "code",
   "execution_count": null,
   "id": "874d8154",
   "metadata": {},
   "outputs": [],
   "source": [
    "fft_pb = fft_centered * mask_pb\n",
    "fft_pa = fft_centered * mask_pa\n",
    "fft_pf = fft_centered * mask_pf\n",
    "fft_rf = fft_centered * mask_rf"
   ]
  },
  {
   "cell_type": "code",
   "execution_count": null,
   "id": "fadcd725",
   "metadata": {},
   "outputs": [],
   "source": [
    "def reconstruct_image(fft_spectrum):\n",
    "    # reposiciona o componente DC para onde a IFFT espera\n",
    "    spectrum_shifted_pb = np.fft.ifftshift(fft_spectrum)\n",
    "    # converte de volta para o domínio espacial\n",
    "    img_back = np.fft.ifft2(spectrum_shifted_pb)\n",
    "    # extrai a parte real da matriz complexa resultante\n",
    "    img_real = np.real(img_back)\n",
    "    # garante valores não-negativos antes da normalização\n",
    "    img_abs = np.abs(img_real)\n",
    "    img_norm = 255 * (img_abs - img_abs.min()) / (img_abs.max() - img_abs.min())\n",
    "    img_norm_uint8 = img_norm.astype(np.uint8)\n",
    "    return img_norm_uint8\n",
    "\n",
    "reconstructed_images = {\n",
    "    'Reconstrução (IFFT) — Filtro Passa–Baixa': fft_pb,\n",
    "    'Reconstrução (IFFT) — Filtro Alta': fft_pa,\n",
    "    'Reconstrução (IFFT) — Filtro Passa–Faixa': fft_pf,\n",
    "    'Reconstrução (IFFT) — Filtro Rejeita–Faixa': fft_rf,\n",
    "}\n",
    "for title, fft_spectrum in reconstructed_images.items():\n",
    "    img_norm_uint8 = reconstruct_image(fft_spectrum)\n",
    "    print_mono_image(img_norm_uint8, title)"
   ]
  },
  {
   "cell_type": "code",
   "execution_count": null,
   "id": "35dcd0e5",
   "metadata": {},
   "outputs": [
    {
     "ename": "",
     "evalue": "",
     "output_type": "error",
     "traceback": [
      "\u001b[1;31mThe Kernel crashed while executing code in the current cell or a previous cell. \n",
      "\u001b[1;31mPlease review the code in the cell(s) to identify a possible cause of the failure. \n",
      "\u001b[1;31mClick <a href='https://aka.ms/vscodeJupyterKernelCrash'>here</a> for more info. \n",
      "\u001b[1;31mView Jupyter <a href='command:jupyter.viewOutput'>log</a> for further details."
     ]
    }
   ],
   "source": [
    "fft_comp = fft_centered.copy()\n",
    "Threshold = 200000\n",
    "mask_threshold = np.abs(fft_comp) < Threshold\n",
    "fft_comp[mask_threshold] = 0\n",
    "img_compressed = reconstruct_image(fft_comp)\n",
    "print_mono_image(img_compressed)\n",
    "plt.figure(figsize=(10,4))\n",
    "plt.subplot(1,2,1)\n",
    "plt.hist(image.ravel(), bins=256, range=(0,255))\n",
    "plt.title('Histograma – Original')\n",
    "plt.subplot(1,2,2)\n",
    "plt.hist(img_compressed.ravel(), bins=256, range=(0,255))\n",
    "plt.title('Histograma – Comprimida')\n",
    "plt.show()"
   ]
  }
 ],
 "metadata": {
  "kernelspec": {
   "display_name": "base",
   "language": "python",
   "name": "python3"
  },
  "language_info": {
   "codemirror_mode": {
    "name": "ipython",
    "version": 3
   },
   "file_extension": ".py",
   "mimetype": "text/x-python",
   "name": "python",
   "nbconvert_exporter": "python",
   "pygments_lexer": "ipython3",
   "version": "3.12.7"
  }
 },
 "nbformat": 4,
 "nbformat_minor": 5
}
